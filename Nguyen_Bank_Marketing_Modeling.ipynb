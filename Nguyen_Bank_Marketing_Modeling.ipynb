{
 "cells": [
  {
   "cell_type": "code",
   "execution_count": 251,
   "metadata": {},
   "outputs": [],
   "source": [
    "# import libraries\n",
    "import pandas as pd\n",
    "from matplotlib import pyplot as plt\n",
    "import seaborn as sns\n",
    "%matplotlib inline\n",
    "pd.plotting.register_matplotlib_converters()\n",
    "\n",
    "import warnings\n",
    "warnings.filterwarnings(\"ignore\")\n",
    "\n",
    "# import libs\n",
    "from sklearn.preprocessing import MinMaxScaler\n",
    "from sklearn.preprocessing import StandardScaler\n",
    "from sklearn.preprocessing import LabelEncoder\n",
    "\n",
    "from sklearn.model_selection import train_test_split\n",
    "from sklearn.metrics import classification_report, confusion_matrix, accuracy_score\n",
    "\n",
    "\n",
    "from sklearn.linear_model import Lasso, LogisticRegression\n",
    "# from sklearn.metrics import accuracy_score,make_scorer, mean_squared_error, mean_absolute_error,\n",
    "\n",
    "from sklearn import datasets, linear_model, metrics\n",
    "from sklearn.tree import DecisionTreeClassifier\n",
    "from sklearn.ensemble import RandomForestClassifier\n",
    "from sklearn.naive_bayes import GaussianNB\n",
    "from sklearn.ensemble import GradientBoostingClassifier\n",
    "from xgboost import XGBClassifier\n",
    "\n",
    "\n",
    "import scikitplot as skplt\n",
    "import matplotlib.pyplot as plt"
   ]
  },
  {
   "cell_type": "markdown",
   "metadata": {},
   "source": [
    "## I. Introduction\n",
    "\n",
    "https://www.kaggle.com/henriqueyamahata/bank-marketing"
   ]
  },
  {
   "cell_type": "markdown",
   "metadata": {},
   "source": [
    "### Input variables:\n",
    "* Bank client data:\n",
    "   1. age (numeric)\n",
    "   2. job : type of job (categorical: \"admin.\",\"blue-collar\",\"entrepreneur\",\"housemaid\",\"management\",\"retired\",\"self-employed\",\"services\",\"student\",\"technician\",\"unemployed\",\"unknown\")\n",
    "   3. marital : marital status (categorical: \"divorced\",\"married\",\"single\",\"unknown\"; note: \"divorced\" means divorced or widowed)\n",
    "   4. education (categorical: \"basic.4y\",\"basic.6y\",\"basic.9y\",\"high.school\",\"illiterate\",\"professional.course\",\"university.degree\",\"unknown\")\n",
    "   5. default: has credit in default? (categorical: \"no\",\"yes\",\"unknown\")\n",
    "   6. housing: has housing loan? (categorical: \"no\",\"yes\",\"unknown\")\n",
    "   7. loan: has personal loan? (categorical: \"no\",\"yes\",\"unknown\")\n",
    "* Related with the last contact of the current campaign:\n",
    "   8. contact: contact communication type (categorical: \"cellular\",\"telephone\") \n",
    "   9. month: last contact month of year (categorical: \"jan\", \"feb\", \"mar\", ..., \"nov\", \"dec\")\n",
    "   10. day_of_week: last contact day of the week (categorical: \"mon\",\"tue\",\"wed\",\"thu\",\"fri\")\n",
    "   11. duration: last contact duration, in seconds (numeric). Important note:  this attribute highly affects the output target (e.g., if duration=0 then y=\"no\"). Yet, the duration is not known before a call is performed. Also, after the end of the call y is obviously known. Thus, this input should only be included for benchmark purposes and should be discarded if the intention is to have a realistic predictive model.\n",
    "* Other attributes:\n",
    "   12. campaign: number of contacts performed during this campaign and for this client (numeric, includes last contact)\n",
    "   13. pdays: number of days that passed by after the client was last contacted from a previous campaign (numeric; 999 means client was not previously contacted)\n",
    "   14. previous: number of contacts performed before this campaign and for this client (numeric)\n",
    "   15. poutcome: outcome of the previous marketing campaign (categorical: \"failure\",\"nonexistent\",\"success\")\n",
    "* Social and economic context attributes\n",
    "   16. emp.var.rate: employment variation rate - quarterly indicator (numeric)\n",
    "   17. cons.price.idx: consumer price index - monthly indicator (numeric)\n",
    "   18. cons.conf.idx: consumer confidence index - monthly indicator (numeric)\n",
    "   19. euribor3m: euribor 3 month rate - daily indicator (numeric)\n",
    "   20. nr.employed: number of employees - quarterly indicator (numeric)\n",
    "\n",
    "### Output variable (desired target):\n",
    "  21. y - has the client subscribed a term deposit? (binary: \"yes\",\"no\")\n",
    "\n",
    "### Missing Attribute Values:\n",
    "There are several missing values in some categorical attributes, all coded with the \"unknown\" label. These missing values can be treated as a possible class label or using deletion or imputation techniques. \n"
   ]
  },
  {
   "cell_type": "markdown",
   "metadata": {},
   "source": [
    "## I. Introduction"
   ]
  },
  {
   "cell_type": "markdown",
   "metadata": {},
   "source": [
    "## II. DATA UNDERSTANDING"
   ]
  },
  {
   "cell_type": "code",
   "execution_count": 428,
   "metadata": {},
   "outputs": [
    {
     "data": {
      "text/html": [
       "<div>\n",
       "<style scoped>\n",
       "    .dataframe tbody tr th:only-of-type {\n",
       "        vertical-align: middle;\n",
       "    }\n",
       "\n",
       "    .dataframe tbody tr th {\n",
       "        vertical-align: top;\n",
       "    }\n",
       "\n",
       "    .dataframe thead th {\n",
       "        text-align: right;\n",
       "    }\n",
       "</style>\n",
       "<table border=\"1\" class=\"dataframe\">\n",
       "  <thead>\n",
       "    <tr style=\"text-align: right;\">\n",
       "      <th></th>\n",
       "      <th>age</th>\n",
       "      <th>job</th>\n",
       "      <th>marital</th>\n",
       "      <th>education</th>\n",
       "      <th>default</th>\n",
       "      <th>housing</th>\n",
       "      <th>loan</th>\n",
       "      <th>contact</th>\n",
       "      <th>month</th>\n",
       "      <th>day_of_week</th>\n",
       "      <th>...</th>\n",
       "      <th>campaign</th>\n",
       "      <th>pdays</th>\n",
       "      <th>previous</th>\n",
       "      <th>poutcome</th>\n",
       "      <th>emp.var.rate</th>\n",
       "      <th>cons.price.idx</th>\n",
       "      <th>cons.conf.idx</th>\n",
       "      <th>euribor3m</th>\n",
       "      <th>nr.employed</th>\n",
       "      <th>y</th>\n",
       "    </tr>\n",
       "  </thead>\n",
       "  <tbody>\n",
       "    <tr>\n",
       "      <th>0</th>\n",
       "      <td>56</td>\n",
       "      <td>housemaid</td>\n",
       "      <td>married</td>\n",
       "      <td>basic.4y</td>\n",
       "      <td>no</td>\n",
       "      <td>no</td>\n",
       "      <td>no</td>\n",
       "      <td>telephone</td>\n",
       "      <td>may</td>\n",
       "      <td>mon</td>\n",
       "      <td>...</td>\n",
       "      <td>1</td>\n",
       "      <td>999</td>\n",
       "      <td>0</td>\n",
       "      <td>nonexistent</td>\n",
       "      <td>1.1</td>\n",
       "      <td>93.994</td>\n",
       "      <td>-36.4</td>\n",
       "      <td>4.857</td>\n",
       "      <td>5191.0</td>\n",
       "      <td>no</td>\n",
       "    </tr>\n",
       "    <tr>\n",
       "      <th>1</th>\n",
       "      <td>57</td>\n",
       "      <td>services</td>\n",
       "      <td>married</td>\n",
       "      <td>high.school</td>\n",
       "      <td>unknown</td>\n",
       "      <td>no</td>\n",
       "      <td>no</td>\n",
       "      <td>telephone</td>\n",
       "      <td>may</td>\n",
       "      <td>mon</td>\n",
       "      <td>...</td>\n",
       "      <td>1</td>\n",
       "      <td>999</td>\n",
       "      <td>0</td>\n",
       "      <td>nonexistent</td>\n",
       "      <td>1.1</td>\n",
       "      <td>93.994</td>\n",
       "      <td>-36.4</td>\n",
       "      <td>4.857</td>\n",
       "      <td>5191.0</td>\n",
       "      <td>no</td>\n",
       "    </tr>\n",
       "  </tbody>\n",
       "</table>\n",
       "<p>2 rows × 21 columns</p>\n",
       "</div>"
      ],
      "text/plain": [
       "   age        job  marital    education  default housing loan    contact  \\\n",
       "0   56  housemaid  married     basic.4y       no      no   no  telephone   \n",
       "1   57   services  married  high.school  unknown      no   no  telephone   \n",
       "\n",
       "  month day_of_week  ...  campaign  pdays  previous     poutcome emp.var.rate  \\\n",
       "0   may         mon  ...         1    999         0  nonexistent          1.1   \n",
       "1   may         mon  ...         1    999         0  nonexistent          1.1   \n",
       "\n",
       "   cons.price.idx  cons.conf.idx  euribor3m  nr.employed   y  \n",
       "0          93.994          -36.4      4.857       5191.0  no  \n",
       "1          93.994          -36.4      4.857       5191.0  no  \n",
       "\n",
       "[2 rows x 21 columns]"
      ]
     },
     "execution_count": 428,
     "metadata": {},
     "output_type": "execute_result"
    }
   ],
   "source": [
    "# get data banking marketing from file\n",
    "file_path = \"data/bank-additional-full.csv\"\n",
    "marketing_df = pd.read_csv(file_path,sep = \";\")\n",
    "marketing_df.head(2)"
   ]
  },
  {
   "cell_type": "code",
   "execution_count": 3,
   "metadata": {},
   "outputs": [],
   "source": [
    "def visualize_numerical(df, column, target = None):\n",
    "\n",
    "    fig, (ax1,ax2) = plt.subplots(nrows = 1, ncols = 2, figsize = (12, 3));\n",
    "\n",
    "    sns.histplot(df[column], ax=ax1, kde=True);\n",
    "    ax1.set_xlabel(column);\n",
    "    ax1.set_ylabel('Density');\n",
    "    ax1.set_title(f'{column}  Distribution');\n",
    "    \n",
    "    if(target == None):\n",
    "        sns.boxplot(y=column, data=df, showmeans=True, ax=ax2);\n",
    "        ax2.set_ylabel(column);\n",
    "    else:\n",
    "        sns.boxplot(x=target, y=column, data=df, showmeans=True, ax=ax2);\n",
    "        ax2.set_xlabel('Target');\n",
    "        ax2.set_ylabel(column);\n",
    "    \n",
    "    plt.show()\n",
    "\n",
    "def visualize_numerical_lst(df, numerical = ['age', 'duration', 'campaign', 'pdays', 'previous', 'emp.var.rate',\\\n",
    "                            'cons.price.idx', 'cons.conf.idx', 'euribor3m', 'nr.employed'], target = None):\n",
    "    for column in numerical:\n",
    "        visualize_numerical(df,column, target)\n",
    "        print();\n",
    "        \n",
    "        \n",
    "def visualize_categorical(df, column, target = 'y'):\n",
    "    \n",
    "        fig, (ax1,ax2) = plt.subplots(nrows=1, ncols=2, figsize=(20,4))    \n",
    "        data1 = df.groupby(column).size()\n",
    "        ax1.pie(x=data1 , autopct=\"%.2f%%\", explode=[0.05]*len(data1), labels=data1.index.tolist(),pctdistance=0.5, radius=1.1)\n",
    "        ax1.set_title(f'{column}  Distribution')\n",
    "\n",
    "        data2 = get_col_target(column, target,df)   \n",
    "        data2.plot(kind='bar',stacked = True, ax=ax2);\n",
    "        plt.xticks(rotation=45);\n",
    "        \n",
    "        plt.show()\n",
    "    \n",
    "    \n",
    "def visualize_categorical_lst(df,categorical = ['job', 'marital', 'education', 'default', 'housing', 'loan', 'contact',\\\n",
    "                                          'month', 'day_of_week', 'poutcome'], target = 'y'):\n",
    "    \n",
    "    \n",
    "    for column in categorical:\n",
    "        visualize_categorical(df, column)\n",
    "        \n",
    "def get_col_target(rows, cols,data):\n",
    "    \n",
    "    cols_lst = data[cols].unique().tolist()\n",
    "    rows_lst = data.groupby(rows)[rows].count().sort_values(ascending = False).index.tolist()\n",
    "\n",
    "    group_df = data.groupby([rows,cols]).size()\n",
    "    dic = {}\n",
    "    for item in cols_lst:\n",
    "        vals = []\n",
    "        for i in rows_lst:\n",
    "            try:\n",
    "                vals.append(group_df.loc[(i, item)])\n",
    "            except:\n",
    "                vals.append(0)\n",
    "            finally:\n",
    "                continue\n",
    "        dic[item] = vals\n",
    "\n",
    "    df = pd.DataFrame(dic,index = rows_lst)\n",
    "    return(df)\n"
   ]
  },
  {
   "cell_type": "markdown",
   "metadata": {},
   "source": [
    "### Những chú ý cho quá trình xử lý\n",
    "\n",
    "1. Lược bỏ dữ liệu\n",
    "* Cột 'duration' sẽ không được quan tâm trong quá trình phân tích và xử lý\n",
    "* Có 12 dòng trùng nhau sẽ cắt bỏ\n",
    "2. Missing:\n",
    "* các giá trị unknown của các cột khác: loan, housing, default, marital, job\n",
    "3. Outlier:\n",
    "* Age, campain, previous, cons.conf.idx\n",
    "4. Phân loại lại biến pdays, age\n",
    "5. Clustering theo 3 chỉ số pdays,previous,poutcome\n",
    "6. Sự tương quan giữa các biến:\n",
    "* 3 biến nr.employed, emp.var.rate, euribo3m là 3 biến có tương quan rất mạnh --> có thể lọc bớt để giảm chiều dữ liệu"
   ]
  },
  {
   "cell_type": "markdown",
   "metadata": {},
   "source": [
    "### Cách xử lý\n",
    "1. Xóa 12 dòng dữ liệu trùng nhau\n",
    "2. Loại bỏ cột duration, nr.employed\n",
    "3. Biến 'default': khoảng 20% biến này có giá trị 'unknown' - không xác định đc là client có tín dụng xấu hay không - (yes) hay (no).\n",
    "> Vì đa số biến này cũng khó xác định nên ta sẽ không biến đổi thuộc tính này\n",
    "\n",
    "MISSING\n",
    "4. 2. Biến 'education': 4% là unknown\n",
    "> Thay thế giá trị 'unknown' --> 'university-degree'(bằng giá trị mode của cột dữ liệu)\n",
    "5. Biến 'loan' và 'housing': \n",
    "    * Tỉ lệ missing khá nhỏ: là 2.4% (unknown)\n",
    "    * Cách xử lý: mục tiêu là càng tiếp thị càng nhiều khách hàng càng tốt, ta đánh vào các giá trị mà tỉ lệ sucessful cao:\n",
    "        - loan : unknown --> no\n",
    "        - housing: unknown --> yes\n",
    "6. Biến marital:missing rất thấp 0.1%\n",
    "> unknown --> single\n",
    "7. Biến job: missing thấp 0.8\n",
    "> unknown --> student\n",
    "\n",
    "OUTLIER\n",
    "8. (I). age: thay thế những giá trị > 70 bằng 70\n",
    "Nhìn biểu đồ thấy sau 70 là outlier\n",
    "9. (II). campain: thay thế những giá trị > quantile_95 bằng quantile_95\n",
    "10. (III). previous: thay thế những giá trị > quantile_95 bằng quantile_95\n",
    "11. (IV). cons.conf.idx: thay thế những giá trị > quantile_95 bằng quantile_95\n",
    "\n",
    "Phân loại lại biến\n",
    "12. (I). Column 'pdays'\n",
    "* Có đến 96.3% bộ dữ liệu thuộc tính 'pdays' có giá trị '999' - ghi nhận lại đây là những khách hàng chưa được liên hệ bằng call trước đó.\n",
    "> Vì vậy đối với biến này, ta sẽ biến đổi phân loại thành 3 nhóm: 'not_previously_contacted', 'within_a_week', 'over_a_week'"
   ]
  },
  {
   "cell_type": "markdown",
   "metadata": {},
   "source": [
    "## III. D A T A PROCESSING"
   ]
  },
  {
   "cell_type": "code",
   "execution_count": 443,
   "metadata": {},
   "outputs": [],
   "source": [
    "def remove_duplicated_row(df):\n",
    "    df = df.drop(df[df.duplicated()].index).reset_index(drop=True)\n",
    "    return(df)\n",
    "\n",
    "def remove_features(df,col_lst):\n",
    "    for col in col_lst:\n",
    "        df.pop(col)\n",
    "    return(df)\n",
    "\n",
    "def replace_missing_by_value(df,column,replaced_value,missing_value='unknown'):\n",
    "    df[column] = df[column].apply(lambda val: replaced_value if val == missing_value else val)\n",
    "    return df\n",
    "\n",
    "def replace_outlier_by_quantile(df, column, quantile_thresh = 0.95, replaced_value = None):\n",
    "    thresh_value = df[column].quantile(quantile_thresh)\n",
    "    if (replaced_value == None):\n",
    "        replaced_value = thresh_value\n",
    "        \n",
    "    df[column] = df[column].apply(lambda val: replaced_value if val > thresh_value  else val)\n",
    "    return df\n",
    "\n",
    "def replace_outlier_by_value(df, column, value_thresh, replaced_value = None):\n",
    "    if (replaced_value == None):\n",
    "        replaced_value = value_thresh\n",
    "        \n",
    "    df[column] = df[column].apply(lambda val: replaced_value if val > value_thresh else val)\n",
    "    return df\n",
    "\n",
    "def replace_missing_by_mode(df,column,missing_value='unknown'):\n",
    "    replaced_value = df[column].mode().values.tolist()[0]\n",
    "    df[column] = df[column].apply(lambda val: replaced_value if val == missing_value else val)\n",
    "    \n",
    "    return df\n",
    "\n",
    "def replace_missing_by_median(df,column,missing_value='unknown'):\n",
    "    replaced_value = df[column].median().values.tolist()[0]\n",
    "    df[column] = df[column].apply(lambda val: replaced_value if val == missing_value else val)\n",
    "    return df\n",
    "\n",
    "def transform_pdays(val):\n",
    "    transform_dict = {999:'not_previously_contacted',7: 'over_a_week',0:'within_a_week'}\n",
    "    for key in transform_dict.keys():\n",
    "        if (val >= key):\n",
    "            return transform_dict[key]\n",
    "        \n",
    "def data_processing_pipeline(df):\n",
    "    # edu_unknown = 'unknown'\n",
    "    column = 'education'\n",
    "    replaced_value = df[column].mode().values.tolist()[0]\n",
    "    replace_missing_by_value(df,column,replaced_value)\n",
    "\n",
    "    # housing_unknown = 'unknown'\n",
    "    column = 'housing'\n",
    "    replaced_value  = 'yes' #df[column].mode().values.tolist()[0]\n",
    "    replace_missing_by_value(df,column,replaced_value)\n",
    "\n",
    "    # loan_unknown = 'unknown'\n",
    "    column = 'loan'\n",
    "    replaced_value  = 'no' # df[column].mode().values.tolist()[0]\n",
    "    replace_missing_by_value(df,column,replaced_value)\n",
    "\n",
    "    # marital_unknown = 'unknown'\n",
    "    column = 'marital'\n",
    "    replaced_value  = 'single' # df[column].mode().values.tolist()[0]\n",
    "    replace_missing_by_value(df,column,replaced_value)\n",
    "\n",
    "    # job_unknown = 'unknown'\n",
    "    column = 'job'\n",
    "    replaced_value  = 'student' # df[column].mode().values.tolist()[0]\n",
    "    replace_missing_by_value(df,column,replaced_value)\n",
    "\n",
    "    ## OUTlier\n",
    "    # age\n",
    "    value_thresh = 65\n",
    "    column = 'age' \n",
    "    replace_outlier_by_value(df,column,value_thresh)\n",
    "\n",
    "    # campain\n",
    "    value_thresh = 6\n",
    "    column = 'campaign' \n",
    "    replace_outlier_by_value(df,column,value_thresh)\n",
    "\n",
    "    #previous\n",
    "    remove_thresh = float(0.95)\n",
    "    column = 'previous' \n",
    "    replace_outlier_by_quantile(df,column)\n",
    "\n",
    "    #cons.conf.idx'\n",
    "    remove_thresh = float(0.95)\n",
    "    column = 'cons.conf.idx' \n",
    "    replace_outlier_by_quantile(df,column)\n",
    "\n",
    "    ### PHÂN LOẠI LẠI BIẾN\n",
    "    # pdays\n",
    "    column = 'pdays'\n",
    "    df[column] = df[column].map(transform_pdays)\n",
    "    \n",
    "    return df"
   ]
  },
  {
   "cell_type": "code",
   "execution_count": 455,
   "metadata": {},
   "outputs": [],
   "source": [
    "process_mkt_df = marketing_df.copy() \n",
    "marketing_df = data_processing_pipeline(process_mkt_df)"
   ]
  },
  {
   "cell_type": "code",
   "execution_count": 404,
   "metadata": {
    "scrolled": false
   },
   "outputs": [],
   "source": [
    "# # visulize dữ liệu\n",
    "# categorical = process_mkt_df[main_features].dtypes[process_mkt_df[main_features].dtypes == 'object'].index.tolist()\n",
    "# numerical = process_mkt_df[main_features].dtypes[process_mkt_df[main_features].dtypes != 'object'].index.tolist()\n",
    "\n",
    "# # categorical = categorical.append('process_previous')\n",
    "# # numerical = numerical.remove('process_previous')\n",
    "\n",
    "# visualize_numerical_lst(model_mkt_df,numerical, target = None)\n",
    "# # Visualization các biến numerical:"
   ]
  },
  {
   "cell_type": "code",
   "execution_count": 406,
   "metadata": {},
   "outputs": [],
   "source": [
    "# visualize_categorical_lst(model_mkt_df, categorical)\n",
    "\n",
    "# # Visualization các biến numerical:"
   ]
  },
  {
   "cell_type": "code",
   "execution_count": 407,
   "metadata": {},
   "outputs": [],
   "source": [
    "# visualize_success_rate(model_mkt_df, categorical)"
   ]
  },
  {
   "cell_type": "markdown",
   "metadata": {},
   "source": [
    "### Label encoding"
   ]
  },
  {
   "cell_type": "code",
   "execution_count": 457,
   "metadata": {},
   "outputs": [],
   "source": [
    "categorical = process_mkt_df.dtypes[process_mkt_df.dtypes == 'object'].index\n",
    "numerical = process_mkt_df.dtypes[process_mkt_df.dtypes != 'object'].index\n",
    "\n",
    "labelencoder = LabelEncoder()\n",
    "for column in categorical:\n",
    "    process_mkt_df[column] = labelencoder.fit_transform(process_mkt_df[column])"
   ]
  },
  {
   "cell_type": "code",
   "execution_count": 458,
   "metadata": {
    "scrolled": true
   },
   "outputs": [
    {
     "data": {
      "text/plain": [
       "41183    1\n",
       "41184    0\n",
       "41185    0\n",
       "41186    1\n",
       "41187    0\n",
       "Name: y, dtype: int32"
      ]
     },
     "execution_count": 458,
     "metadata": {},
     "output_type": "execute_result"
    }
   ],
   "source": [
    "process_mkt_df['y'].tail(5)"
   ]
  },
  {
   "cell_type": "markdown",
   "metadata": {},
   "source": [
    "### Split Train & Test Data: 70% Train - 30% Test"
   ]
  },
  {
   "cell_type": "code",
   "execution_count": 276,
   "metadata": {},
   "outputs": [],
   "source": [
    "X_train, X_test, y_train, y_test = train_test_split(model_mkt_df.drop('y',axis=1), model_mkt_df['y'],\n",
    "                                                    test_size=0.3, random_state = 101)\n",
    "#                                                     stratify= df['y'])"
   ]
  },
  {
   "cell_type": "markdown",
   "metadata": {},
   "source": [
    "### Normalize"
   ]
  },
  {
   "cell_type": "code",
   "execution_count": 277,
   "metadata": {},
   "outputs": [],
   "source": [
    "scaler = MinMaxScaler()\n",
    "X_train = scaler.fit_transform(X_train)\n",
    "X_test = scaler.transform(X_test)"
   ]
  },
  {
   "cell_type": "code",
   "execution_count": null,
   "metadata": {},
   "outputs": [],
   "source": []
  },
  {
   "cell_type": "markdown",
   "metadata": {},
   "source": [
    "## IV. M O D E L I N G"
   ]
  },
  {
   "cell_type": "code",
   "execution_count": 354,
   "metadata": {},
   "outputs": [],
   "source": [
    "def eval_class(true, predicted):\n",
    "    acc = metrics.accuracy_score(true, predicted)\n",
    "    precision = metrics.precision_score(true, predicted)\n",
    "    recall = metrics.recall_score(true, predicted)\n",
    "    f1 = metrics.f1_score(true, predicted)\n",
    "    log_loss = metrics.log_loss(true, predicted)\n",
    "    auc = metrics.roc_auc_score(true, predicted)\n",
    "    return acc, precision, recall, f1, log_loss, auc\n",
    "\n",
    "def create_evaluation_df(model_name, y_train,y_train_pred, y_test, y_test_pred):\n",
    "    eval_clm_metrics = ['Accuracy', 'Precision', 'Recall', 'F1', 'Log_loss','AUC']\n",
    "    eval_clm_train = [m + '_train' for m in eval_clm_metrics]\n",
    "    eval_clm_test = [m + '_test' for m in eval_clm_metrics]\n",
    "    dis_clm = ['Model','Accuracy_train'] + eval_clm_test + ['diff_Acc_train_test']\n",
    "    dis_clm_1 = ['Model','Accuracy_train','Accuracy_test','Precision_test','Recall_test','F1_test']\n",
    "  \n",
    "    res_clm = pd.DataFrame(data=[[model_name,*eval_class(y_train,y_train_pred),\n",
    "                                 *eval_class(y_test, y_test_pred)]],\n",
    "                          columns=['Model'] + eval_clm_train + eval_clm_test)\n",
    "    res_clm['diff_Acc_train_test'] = res_clm.apply(lambda x: (x.Accuracy_test - x.Accuracy_train)/x.Accuracy_train, axis=1)\n",
    "    return(res_clm[dis_clm])\n",
    "\n",
    "def init_evaluation_df():\n",
    "    eval_clm_metrics = ['Accuracy', 'Precision', 'Recall', 'F1', 'Log_loss','AUC']\n",
    "    eval_clm_train = [m + '_train' for m in eval_clm_metrics]\n",
    "    eval_clm_test = [m + '_test' for m in eval_clm_metrics]\n",
    "    dis_clm = ['Model','Accuracy_train'] + eval_clm_test + ['diff_Acc_train_test']\n",
    "    dis_clm_1 = ['Model','Accuracy_train','Accuracy_test','Precision_test','Recall_test','F1_test']\n",
    "    \n",
    "    res_clm = pd.DataFrame( columns=['Model'] + eval_clm_train + eval_clm_test + ['diff_Acc_train_test'])\n",
    "\n",
    "    return(res_clm[dis_clm])\n",
    "\n",
    "def run_mode(model):\n",
    "    model.fit(X_train, y_train)\n",
    "    \n",
    "    # Prediction\n",
    "    y_test_pred = model.predict(X_test)\n",
    "    y_train_pred = model.predict(X_train)\n",
    "\n",
    "    print('classification_report')\n",
    "    print(classification_report(y_test,y_pred))\n",
    "    print()\n",
    "    print('Test-set accuracy score: {0:0.4f}'. format(accuracy_score(y_test,y_test_pred)))\n",
    "    print('Training-set accuracy score: {0:0.4f}'. format(accuracy_score(y_train, y_train_pred)))\n",
    "    "
   ]
  },
  {
   "cell_type": "code",
   "execution_count": 385,
   "metadata": {},
   "outputs": [
    {
     "name": "stdout",
     "output_type": "stream",
     "text": [
      "[07:49:41] WARNING: C:/Users/Administrator/workspace/xgboost-win64_release_1.4.0/src/learner.cc:1095: Starting in XGBoost 1.3.0, the default evaluation metric used with the objective 'binary:logistic' was changed from 'error' to 'logloss'. Explicitly set eval_metric if you'd like to restore the old behavior.\n"
     ]
    }
   ],
   "source": [
    "### R U N M O D E Ls\n",
    "evalutation_df = init_evaluation_df()\n",
    "y_test_proba_df = pd.DataFrame()\n",
    "\n",
    "models = [LogisticRegression(max_iter = 300),\n",
    "          GaussianNB(),\n",
    "          DecisionTreeClassifier(criterion='gini', max_depth=3, random_state=0),\n",
    "          RandomForestClassifier(n_estimators=1000, max_depth=3),\n",
    "          GradientBoostingClassifier(n_estimators=1000, learning_rate=0.01),\n",
    "          XGBClassifier(n_estimators=1000, learning_rate=0.05, use_label_encoder = False)\n",
    "          ]\n",
    "\n",
    "names = [ 'Logistic Regressor',\n",
    "          'Naive Bayes',\n",
    "            'Decision Tree Classifier',\n",
    "          'Random Forest Classifier',\n",
    "          'Gradient Boost Classifier',\n",
    "          'XGBoost Classifier'\n",
    "        ]\n",
    "\n",
    "for model,name in zip(models,names):\n",
    "    model.fit(X_train,y_train)\n",
    "    y_test_pred = model.predict(X_test)\n",
    "    y_test_pred_proba = model.predict_proba(X_test)[:,1] #Lấy xác suất phần 1\n",
    "    y_train_pred = model.predict(X_train)\n",
    "    \n",
    "    model_eval_df = create_evaluation_df(name, y_train,y_train_pred, y_test, y_test_pred)\n",
    "    evalutation_df = evalutation_df.append(model_eval_df, ignore_index = True)\n",
    "    y_test_proba_df[name] = y_test_pred_proba\n",
    "    \n"
   ]
  },
  {
   "cell_type": "code",
   "execution_count": 358,
   "metadata": {},
   "outputs": [
    {
     "data": {
      "text/html": [
       "<div>\n",
       "<style scoped>\n",
       "    .dataframe tbody tr th:only-of-type {\n",
       "        vertical-align: middle;\n",
       "    }\n",
       "\n",
       "    .dataframe tbody tr th {\n",
       "        vertical-align: top;\n",
       "    }\n",
       "\n",
       "    .dataframe thead th {\n",
       "        text-align: right;\n",
       "    }\n",
       "</style>\n",
       "<table border=\"1\" class=\"dataframe\">\n",
       "  <thead>\n",
       "    <tr style=\"text-align: right;\">\n",
       "      <th></th>\n",
       "      <th>Model</th>\n",
       "      <th>Accuracy_train</th>\n",
       "      <th>Accuracy_test</th>\n",
       "      <th>Precision_test</th>\n",
       "      <th>Recall_test</th>\n",
       "      <th>F1_test</th>\n",
       "      <th>Log_loss_test</th>\n",
       "      <th>AUC_test</th>\n",
       "      <th>diff_Acc_train_test</th>\n",
       "    </tr>\n",
       "  </thead>\n",
       "  <tbody>\n",
       "    <tr>\n",
       "      <th>0</th>\n",
       "      <td>Logistic Regressor</td>\n",
       "      <td>0.900219</td>\n",
       "      <td>0.900348</td>\n",
       "      <td>0.705100</td>\n",
       "      <td>0.224576</td>\n",
       "      <td>0.340653</td>\n",
       "      <td>3.441864</td>\n",
       "      <td>0.606208</td>\n",
       "      <td>0.000144</td>\n",
       "    </tr>\n",
       "    <tr>\n",
       "      <th>1</th>\n",
       "      <td>Naive Bayes</td>\n",
       "      <td>0.821150</td>\n",
       "      <td>0.821582</td>\n",
       "      <td>0.303393</td>\n",
       "      <td>0.429379</td>\n",
       "      <td>0.355556</td>\n",
       "      <td>6.162437</td>\n",
       "      <td>0.650869</td>\n",
       "      <td>0.000526</td>\n",
       "    </tr>\n",
       "    <tr>\n",
       "      <th>2</th>\n",
       "      <td>Decision Tree Classifier</td>\n",
       "      <td>0.900045</td>\n",
       "      <td>0.898405</td>\n",
       "      <td>0.704835</td>\n",
       "      <td>0.195621</td>\n",
       "      <td>0.306247</td>\n",
       "      <td>3.508966</td>\n",
       "      <td>0.592508</td>\n",
       "      <td>-0.001822</td>\n",
       "    </tr>\n",
       "    <tr>\n",
       "      <th>3</th>\n",
       "      <td>Random Forest Classifier</td>\n",
       "      <td>0.899351</td>\n",
       "      <td>0.897920</td>\n",
       "      <td>0.728614</td>\n",
       "      <td>0.174435</td>\n",
       "      <td>0.281481</td>\n",
       "      <td>3.525740</td>\n",
       "      <td>0.583012</td>\n",
       "      <td>-0.001592</td>\n",
       "    </tr>\n",
       "    <tr>\n",
       "      <th>4</th>\n",
       "      <td>Gradient Boost Classifier</td>\n",
       "      <td>0.905839</td>\n",
       "      <td>0.900267</td>\n",
       "      <td>0.663701</td>\n",
       "      <td>0.263418</td>\n",
       "      <td>0.377149</td>\n",
       "      <td>3.444663</td>\n",
       "      <td>0.623069</td>\n",
       "      <td>-0.006151</td>\n",
       "    </tr>\n",
       "    <tr>\n",
       "      <th>5</th>\n",
       "      <td>XGBoost Classifier</td>\n",
       "      <td>0.942303</td>\n",
       "      <td>0.893224</td>\n",
       "      <td>0.567268</td>\n",
       "      <td>0.288842</td>\n",
       "      <td>0.382780</td>\n",
       "      <td>3.687922</td>\n",
       "      <td>0.630157</td>\n",
       "      <td>-0.052084</td>\n",
       "    </tr>\n",
       "  </tbody>\n",
       "</table>\n",
       "</div>"
      ],
      "text/plain": [
       "                       Model  Accuracy_train  Accuracy_test  Precision_test  \\\n",
       "0         Logistic Regressor        0.900219       0.900348        0.705100   \n",
       "1                Naive Bayes        0.821150       0.821582        0.303393   \n",
       "2   Decision Tree Classifier        0.900045       0.898405        0.704835   \n",
       "3   Random Forest Classifier        0.899351       0.897920        0.728614   \n",
       "4  Gradient Boost Classifier        0.905839       0.900267        0.663701   \n",
       "5         XGBoost Classifier        0.942303       0.893224        0.567268   \n",
       "\n",
       "   Recall_test   F1_test  Log_loss_test  AUC_test  diff_Acc_train_test  \n",
       "0     0.224576  0.340653       3.441864  0.606208             0.000144  \n",
       "1     0.429379  0.355556       6.162437  0.650869             0.000526  \n",
       "2     0.195621  0.306247       3.508966  0.592508            -0.001822  \n",
       "3     0.174435  0.281481       3.525740  0.583012            -0.001592  \n",
       "4     0.263418  0.377149       3.444663  0.623069            -0.006151  \n",
       "5     0.288842  0.382780       3.687922  0.630157            -0.052084  "
      ]
     },
     "execution_count": 358,
     "metadata": {},
     "output_type": "execute_result"
    }
   ],
   "source": [
    "### EVALUATION\n",
    "evalutation_df "
   ]
  },
  {
   "cell_type": "code",
   "execution_count": 396,
   "metadata": {},
   "outputs": [
    {
     "data": {
      "text/plain": [
       "['base line',\n",
       " 'Logistic Regressor',\n",
       " 'Naive Bayes',\n",
       " 'Decision Tree Classifier',\n",
       " 'Random Forest Classifier',\n",
       " 'Gradient Boost Classifier',\n",
       " 'XGBoost Classifier']"
      ]
     },
     "execution_count": 396,
     "metadata": {},
     "output_type": "execute_result"
    }
   ],
   "source": [
    "['base line']+ y_test_proba_df.columns.tolist()"
   ]
  },
  {
   "cell_type": "code",
   "execution_count": 397,
   "metadata": {},
   "outputs": [
    {
     "data": {
      "image/png": "[encoded data removed]",
      "text/plain": [
       "<Figure size 1080x432 with 1 Axes>"
      ]
     },
     "metadata": {
      "needs_background": "light"
     },
     "output_type": "display_data"
    }
   ],
   "source": [
    "### ROC CURVE\n",
    "\n",
    "plt.figure(figsize = (15,6))\n",
    "plt.plot([0, 1], [0, 1], 'k--')\n",
    "\n",
    "# Generate ROC curve values: fpr, tpr, thresholds\n",
    "for col in y_test_proba_df.columns:\n",
    "    fpr1, tpr1, thresholds1 = metrics.roc_curve(y_test, y_test_proba_df[col])\n",
    "    plt.plot(fpr1, tpr1)\n",
    "\n",
    "plt.xlabel('False Positive Rate')\n",
    "plt.ylabel('True Positive Rate')\n",
    "plt.title('ROC Curve: High-Value Users Classifiers')\n",
    "plt.legend(['Base line']+ y_test_proba_df.columns.tolist(), loc='lower right')\n",
    "plt.show()"
   ]
  },
  {
   "cell_type": "code",
   "execution_count": 398,
   "metadata": {},
   "outputs": [
    {
     "name": "stdout",
     "output_type": "stream",
     "text": [
      "              precision    recall  f1-score   support\n",
      "\n",
      "           0       0.91      0.99      0.95     10937\n",
      "           1       0.71      0.22      0.34      1416\n",
      "\n",
      "    accuracy                           0.90     12353\n",
      "   macro avg       0.81      0.61      0.64     12353\n",
      "weighted avg       0.88      0.90      0.88     12353\n",
      "\n"
     ]
    }
   ],
   "source": [
    "model = LogisticRegression(max_iter = 300)\n",
    "model.fit(X_train, y_train)\n",
    "# Prediction\n",
    "y_test_pred = model.predict(X_test)\n",
    "y_train_pred = model.predict(X_train)\n",
    "y_probs = model.predict_proba(X_test)\n",
    "#     Confusion Matrix\n",
    "#     metrics.confusion_matrix(y_test_pred, y_test)\n",
    "#     classification_report\n",
    "# print('classification_report')\n",
    "# print(classification_report(y_test,y_test_pred))\n",
    "\n",
    "print(classification_report(y_test,y_test_pred))\n",
    "# print()\n",
    "# print('Test-set accuracy score: {0:0.4f}'. format(accuracy_score(y_test,y_test_pred)))\n",
    "# print('Training-set accuracy score: {0:0.4f}'. format(accuracy_score(y_train, y_train_pred)))"
   ]
  },
  {
   "cell_type": "code",
   "execution_count": 384,
   "metadata": {},
   "outputs": [
    {
     "data": {
      "image/png": "[encoded data removed]",
      "text/plain": [
       "<Figure size 432x288 with 1 Axes>"
      ]
     },
     "metadata": {
      "needs_background": "light"
     },
     "output_type": "display_data"
    }
   ],
   "source": [
    "### ROC CURVE \n",
    "#!pip install scikit-plot\n",
    "\n",
    "import scikitplot as skplt\n",
    "import matplotlib.pyplot as plt\n",
    "\n",
    "skplt.metrics.plot_roc_curve(y_true = y_test,y_probas = y_probs )\n",
    "plt.show()"
   ]
  },
  {
   "cell_type": "code",
   "execution_count": 243,
   "metadata": {},
   "outputs": [],
   "source": [
    "# # 3. Hệ số mô hình\n",
    "# logmodel.coef_\n",
    "# mode.feature_importances"
   ]
  },
  {
   "cell_type": "code",
   "execution_count": 403,
   "metadata": {},
   "outputs": [
    {
     "data": {
      "text/plain": [
       "[]"
      ]
     },
     "execution_count": 403,
     "metadata": {},
     "output_type": "execute_result"
    }
   ],
   "source": [
    "evaluation_df.Model.values.tolist()"
   ]
  },
  {
   "cell_type": "markdown",
   "metadata": {},
   "source": [
    "###  ANN Model\n",
    "Chưa chạy được"
   ]
  },
  {
   "cell_type": "code",
   "execution_count": 120,
   "metadata": {},
   "outputs": [],
   "source": [
    "#!pip install keras"
   ]
  },
  {
   "cell_type": "code",
   "execution_count": 124,
   "metadata": {},
   "outputs": [],
   "source": [
    "#!pip install tensorflow"
   ]
  },
  {
   "cell_type": "code",
   "execution_count": 125,
   "metadata": {
    "collapsed": true
   },
   "outputs": [
    {
     "ename": "ImportError",
     "evalue": "Keras requires TensorFlow 2.2 or higher. Install TensorFlow via `pip install tensorflow`",
     "output_type": "error",
     "traceback": [
      "\u001b[1;31m---------------------------------------------------------------------------\u001b[0m",
      "\u001b[1;31mModuleNotFoundError\u001b[0m                       Traceback (most recent call last)",
      "\u001b[1;32mC:\\ProgramData\\Anaconda3\\lib\\site-packages\\keras\\__init__.py\u001b[0m in \u001b[0;36m<module>\u001b[1;34m\u001b[0m\n\u001b[0;32m      2\u001b[0m \u001b[1;32mtry\u001b[0m\u001b[1;33m:\u001b[0m\u001b[1;33m\u001b[0m\u001b[1;33m\u001b[0m\u001b[0m\n\u001b[1;32m----> 3\u001b[1;33m     \u001b[1;32mfrom\u001b[0m \u001b[0mtensorflow\u001b[0m\u001b[1;33m.\u001b[0m\u001b[0mkeras\u001b[0m\u001b[1;33m.\u001b[0m\u001b[0mlayers\u001b[0m\u001b[1;33m.\u001b[0m\u001b[0mexperimental\u001b[0m\u001b[1;33m.\u001b[0m\u001b[0mpreprocessing\u001b[0m \u001b[1;32mimport\u001b[0m \u001b[0mRandomRotation\u001b[0m\u001b[1;33m\u001b[0m\u001b[1;33m\u001b[0m\u001b[0m\n\u001b[0m\u001b[0;32m      4\u001b[0m \u001b[1;32mexcept\u001b[0m \u001b[0mImportError\u001b[0m\u001b[1;33m:\u001b[0m\u001b[1;33m\u001b[0m\u001b[1;33m\u001b[0m\u001b[0m\n",
      "\u001b[1;31mModuleNotFoundError\u001b[0m: No module named 'tensorflow'",
      "\nDuring handling of the above exception, another exception occurred:\n",
      "\u001b[1;31mImportError\u001b[0m                               Traceback (most recent call last)",
      "\u001b[1;32m<ipython-input-125-e0f09f9ad9cd>\u001b[0m in \u001b[0;36m<module>\u001b[1;34m\u001b[0m\n\u001b[1;32m----> 1\u001b[1;33m \u001b[1;32mimport\u001b[0m \u001b[0mkeras\u001b[0m\u001b[1;33m\u001b[0m\u001b[1;33m\u001b[0m\u001b[0m\n\u001b[0m\u001b[0;32m      2\u001b[0m \u001b[1;33m\u001b[0m\u001b[0m\n\u001b[0;32m      3\u001b[0m \u001b[1;32mfrom\u001b[0m \u001b[0mkeras\u001b[0m\u001b[1;33m.\u001b[0m\u001b[0mmodels\u001b[0m \u001b[1;32mimport\u001b[0m \u001b[0mSequential\u001b[0m\u001b[1;33m\u001b[0m\u001b[1;33m\u001b[0m\u001b[0m\n\u001b[0;32m      4\u001b[0m \u001b[1;32mfrom\u001b[0m \u001b[0mkeras\u001b[0m\u001b[1;33m.\u001b[0m\u001b[0mlayers\u001b[0m \u001b[1;32mimport\u001b[0m \u001b[0mDense\u001b[0m\u001b[1;33m\u001b[0m\u001b[1;33m\u001b[0m\u001b[0m\n",
      "\u001b[1;32mC:\\ProgramData\\Anaconda3\\lib\\site-packages\\keras\\__init__.py\u001b[0m in \u001b[0;36m<module>\u001b[1;34m\u001b[0m\n\u001b[0;32m      3\u001b[0m     \u001b[1;32mfrom\u001b[0m \u001b[0mtensorflow\u001b[0m\u001b[1;33m.\u001b[0m\u001b[0mkeras\u001b[0m\u001b[1;33m.\u001b[0m\u001b[0mlayers\u001b[0m\u001b[1;33m.\u001b[0m\u001b[0mexperimental\u001b[0m\u001b[1;33m.\u001b[0m\u001b[0mpreprocessing\u001b[0m \u001b[1;32mimport\u001b[0m \u001b[0mRandomRotation\u001b[0m\u001b[1;33m\u001b[0m\u001b[1;33m\u001b[0m\u001b[0m\n\u001b[0;32m      4\u001b[0m \u001b[1;32mexcept\u001b[0m \u001b[0mImportError\u001b[0m\u001b[1;33m:\u001b[0m\u001b[1;33m\u001b[0m\u001b[1;33m\u001b[0m\u001b[0m\n\u001b[1;32m----> 5\u001b[1;33m     raise ImportError(\n\u001b[0m\u001b[0;32m      6\u001b[0m         \u001b[1;34m'Keras requires TensorFlow 2.2 or higher. '\u001b[0m\u001b[1;33m\u001b[0m\u001b[1;33m\u001b[0m\u001b[0m\n\u001b[0;32m      7\u001b[0m         'Install TensorFlow via `pip install tensorflow`')\n",
      "\u001b[1;31mImportError\u001b[0m: Keras requires TensorFlow 2.2 or higher. Install TensorFlow via `pip install tensorflow`"
     ]
    }
   ],
   "source": [
    "import keras\n",
    "from keras.models import Sequential\n",
    "from keras.layers import Dense"
   ]
  },
  {
   "cell_type": "code",
   "execution_count": null,
   "metadata": {},
   "outputs": [],
   "source": [
    "model = Sequential()\n",
    "model.add(Dense(input_dim = 2, units = 10, activation='relu', kernel_initializer='uniform'))\n",
    "model.add(Dense(units = 20, activation='relu', kernel_initializer='uniform'))\n",
    "model.add(Dense(units = 1, activation='sigmoid', kernel_initializer='uniform'))\n",
    "model.compile(optimizer='adam', loss='binary_crossentropy', metrics=['accuracy'])\n",
    "\n",
    "model.fit(X_train,y_train,batch_size=500, epochs=10)\n",
    "model.evaluate(X_test,y_test)\n",
    "model.evaluate(X_train,y_train)"
   ]
  }
 ],
 "metadata": {
  "kernelspec": {
   "display_name": "Python 3",
   "language": "python",
   "name": "python3"
  },
  "language_info": {
   "codemirror_mode": {
    "name": "ipython",
    "version": 3
   },
   "file_extension": ".py",
   "mimetype": "text/x-python",
   "name": "python",
   "nbconvert_exporter": "python",
   "pygments_lexer": "ipython3",
   "version": "3.8.5"
  }
 },
 "nbformat": 4,
 "nbformat_minor": 4
}
